{
 "cells": [
  {
   "cell_type": "code",
   "execution_count": null,
   "id": "3cd14360",
   "metadata": {},
   "outputs": [],
   "source": [
    "import tensorflow as tf\n",
    "from tensorflow.keras.applications import MobileNetV2\n",
    "from tensorflow.keras.layers import Dense, GlobalAveragePooling2D\n",
    "from tensorflow.keras.models import Model\n",
    "from tensorflow.keras.preprocessing.image import ImageDataGenerator\n",
    "from tensorflow.keras.callbacks import ModelCheckpoint\n",
    "import os"
   ]
  },
  {
   "cell_type": "markdown",
   "id": "78b8657a",
   "metadata": {},
   "source": [
    "### Define dataset path"
   ]
  },
  {
   "cell_type": "code",
   "execution_count": null,
   "id": "b4f526a6",
   "metadata": {},
   "outputs": [],
   "source": [
    "dataset_path =r'C:\\Users\\kshit\\Downloads\\archive (4)\\Dataset\\Train'  "
   ]
  },
  {
   "cell_type": "code",
   "execution_count": null,
   "id": "e1f8a3ea",
   "metadata": {
    "scrolled": true
   },
   "outputs": [],
   "source": [
    "if not os.path.exists(dataset_path):\n",
    "    print(f\"Dataset path '{dataset_path}' does not exist.\")\n",
    "else:\n",
    "    print(f\"Dataset path '{dataset_path}' is valid.\")"
   ]
  },
  {
   "cell_type": "markdown",
   "id": "64242756",
   "metadata": {},
   "source": [
    "### Training the Model"
   ]
  },
  {
   "cell_type": "code",
   "execution_count": null,
   "id": "b2f1b807",
   "metadata": {},
   "outputs": [],
   "source": [
    "base_model = MobileNetV2(input_shape=(128, 128, 3), include_top=False, weights='imagenet'"
   ]
  },
  {
   "cell_type": "code",
   "execution_count": null,
   "id": "f447664a",
   "metadata": {},
   "outputs": [],
   "source": [
    "x = base_model.output\n",
    "x = GlobalAveragePooling2D()(x)\n",
    "x = Dense(1, activation='sigmoid')(x)\n",
    "model = Model(inputs=base_model.input, outputs=x)"
   ]
  },
  {
   "cell_type": "code",
   "execution_count": null,
   "id": "eb778e10",
   "metadata": {},
   "outputs": [],
   "source": [
    "for layer in base_model.layers:\n",
    "    layer.trainable = False"
   ]
  },
  {
   "cell_type": "code",
   "execution_count": null,
   "id": "138e1780",
   "metadata": {},
   "outputs": [],
   "source": [
    "model.compile(optimizer='adam', loss='binary_crossentropy', metrics=['accuracy'])\n",
    "train_datagen = ImageDataGenerator(rescale=1.0/255.0, validation_split=0.2)\n",
    "batch_size = 8\n",
    "train_generator = train_datagen.flow_from_directory(\n",
    "    dataset_path, target_size=(128, 128), batch_size=batch_size, class_mode='binary', subset='training'\n",
    ")\n",
    "validation_generator = train_datagen.flow_from_directory(\n",
    "    dataset_path, target_size=(128, 128), batch_size=batch_size, class_mode='binary', subset='validation'\n",
    ")"
   ]
  },
  {
   "cell_type": "code",
   "execution_count": null,
   "id": "efeb30a4",
   "metadata": {},
   "outputs": [],
   "source": [
    "checkpoint = ModelCheckpoint('best_deepfake_model.h5', monitor='val_accuracy', save_best_only=True, mode='max')\n",
    "epochs = 5\n",
    "model.fit(train_generator, validation_data=validation_generator, \n",
    "          epochs=epochs, steps_per_epoch=train_generator.samples // batch_size, \n",
    "          validation_steps=validation_generator.samples // batch_size, \n",
    "          callbacks=[checkpoint])"
   ]
  },
  {
   "cell_type": "markdown",
   "id": "f99e3c7a",
   "metadata": {},
   "source": [
    "### Saving the Model"
   ]
  },
  {
   "cell_type": "code",
   "execution_count": null,
   "id": "0e389a37",
   "metadata": {},
   "outputs": [],
   "source": [
    "model.load_weights('best_deepfake_model.h5')"
   ]
  },
  {
   "cell_type": "code",
   "execution_count": null,
   "id": "b1c784ce",
   "metadata": {},
   "outputs": [],
   "source": []
  }
 ],
 "metadata": {
  "kernelspec": {
   "display_name": "deepfake_env",
   "language": "python",
   "name": "deepfake_env"
  },
  "language_info": {
   "codemirror_mode": {
    "name": "ipython",
    "version": 3
   },
   "file_extension": ".py",
   "mimetype": "text/x-python",
   "name": "python",
   "nbconvert_exporter": "python",
   "pygments_lexer": "ipython3",
   "version": "3.8.18"
  }
 },
 "nbformat": 4,
 "nbformat_minor": 5
}
